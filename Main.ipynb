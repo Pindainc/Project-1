{
 "cells": [
  {
   "cell_type": "code",
   "execution_count": 22,
   "id": "9853a994-ce4c-42e4-8581-99c4a65051b3",
   "metadata": {},
   "outputs": [
    {
     "ename": "ModuleNotFoundError",
     "evalue": "No module named 'hvplot'",
     "output_type": "error",
     "traceback": [
      "\u001b[0;31m---------------------------------------------------------------------------\u001b[0m",
      "\u001b[0;31mModuleNotFoundError\u001b[0m                       Traceback (most recent call last)",
      "Cell \u001b[0;32mIn[22], line 7\u001b[0m\n\u001b[1;32m      5\u001b[0m \u001b[38;5;28;01mfrom\u001b[39;00m \u001b[38;5;21;01mnewsapi\u001b[39;00m \u001b[38;5;28;01mimport\u001b[39;00m NewsApiClient\n\u001b[1;32m      6\u001b[0m \u001b[38;5;28;01mimport\u001b[39;00m \u001b[38;5;21;01malpaca_trade_api\u001b[39;00m \u001b[38;5;28;01mas\u001b[39;00m \u001b[38;5;21;01mtradeapi\u001b[39;00m\n\u001b[0;32m----> 7\u001b[0m \u001b[38;5;28;01mimport\u001b[39;00m \u001b[38;5;21;01mhvplot\u001b[39;00m\u001b[38;5;21;01m.\u001b[39;00m\u001b[38;5;21;01mpandas\u001b[39;00m\n",
      "\u001b[0;31mModuleNotFoundError\u001b[0m: No module named 'hvplot'"
     ]
    }
   ],
   "source": [
    "import requests\n",
    "import os\n",
    "import pandas as pd\n",
    "from dotenv import load_dotenv\n",
    "from newsapi import NewsApiClient\n",
    "import alpaca_trade_api as tradeapi\n",
    "import hvplot.pandas"
   ]
  },
  {
   "cell_type": "code",
   "execution_count": null,
   "id": "44e62f81-f495-4356-a3ac-6c413990aea7",
   "metadata": {
    "tags": []
   },
   "outputs": [
    {
     "data": {
      "text/plain": [
       "True"
      ]
     },
     "execution_count": 2,
     "metadata": {},
     "output_type": "execute_result"
    }
   ],
   "source": [
    "load_dotenv()"
   ]
  },
  {
   "cell_type": "code",
   "execution_count": 3,
   "id": "b23bb7d0-8d87-4736-b6be-e254bf7cbfb8",
   "metadata": {},
   "outputs": [],
   "source": [
    "api_key=os.getenv(\"ALPACA_API_KEY\")"
   ]
  },
  {
   "cell_type": "code",
   "execution_count": 4,
   "id": "19e0ffc5-f26b-456a-88bc-4baeb2e6fc55",
   "metadata": {},
   "outputs": [],
   "source": [
    "api_secret_key=os.getenv(\"ALPACA_SECRET_KEY\")"
   ]
  },
  {
   "cell_type": "code",
   "execution_count": 5,
   "id": "a33c99c1-2f93-445d-9472-972ae9d48d2f",
   "metadata": {},
   "outputs": [
    {
     "data": {
      "text/plain": [
       "'PKOHST2FASMLCQE6CSOP'"
      ]
     },
     "execution_count": 5,
     "metadata": {},
     "output_type": "execute_result"
    }
   ],
   "source": [
    "api_key"
   ]
  },
  {
   "cell_type": "code",
   "execution_count": 6,
   "id": "4100c84f-ca01-4865-93f3-d6110c33b9b2",
   "metadata": {},
   "outputs": [
    {
     "data": {
      "text/plain": [
       "'rp3dDDwRmc6P3SSZIwirnboYWJvtkOpcscLJm48Z'"
      ]
     },
     "execution_count": 6,
     "metadata": {},
     "output_type": "execute_result"
    }
   ],
   "source": [
    "api_secret_key"
   ]
  },
  {
   "cell_type": "code",
   "execution_count": 8,
   "id": "643fdca0-cc5f-4a9e-8ff2-3307cc4644ba",
   "metadata": {},
   "outputs": [],
   "source": [
    "url = ('https://newsapi.org/v2/top-headlines?sources=bbc-news&apiKey=853e9a685a08416da24c972101de8eee')"
   ]
  },
  {
   "cell_type": "code",
   "execution_count": 9,
   "id": "ee3ecadc-0171-4992-ad10-af9f8e11f742",
   "metadata": {},
   "outputs": [],
   "source": [
    "# response = requests.get(url)\n",
    "# print(response.json())"
   ]
  },
  {
   "cell_type": "code",
   "execution_count": 28,
   "id": "a4856e4b-b777-4f91-a077-9a7f9642836f",
   "metadata": {},
   "outputs": [],
   "source": [
    "\n",
    "alpaca = tradeapi.REST(\n",
    "    api_key,\n",
    "    api_secret_key,\n",
    "    api_version=\"v2\")"
   ]
  },
  {
   "cell_type": "code",
   "execution_count": 12,
   "id": "169c534d-0c55-4ff4-a2e8-0eb6b7ed8aac",
   "metadata": {},
   "outputs": [],
   "source": [
    "stock_tickers = [\"AMZN\", \"GOOG\", \"TSLA\", \"MCD\", \"XOM\"]\n",
    "start_date = pd.Timestamp(\"2018-05-01\", tz=\"America/New_York\").isoformat()\n",
    "end_date = pd.Timestamp(\"2023-05-01\", tz=\"America/New_York\").isoformat()\n",
    "timeframe = \"1Day\""
   ]
  },
  {
   "cell_type": "code",
   "execution_count": 29,
   "id": "c81777cc-5c97-44f3-b2e2-c8b479aaad6c",
   "metadata": {},
   "outputs": [
    {
     "data": {
      "text/html": [
       "<div>\n",
       "<style scoped>\n",
       "    .dataframe tbody tr th:only-of-type {\n",
       "        vertical-align: middle;\n",
       "    }\n",
       "\n",
       "    .dataframe tbody tr th {\n",
       "        vertical-align: top;\n",
       "    }\n",
       "\n",
       "    .dataframe thead th {\n",
       "        text-align: right;\n",
       "    }\n",
       "</style>\n",
       "<table border=\"1\" class=\"dataframe\">\n",
       "  <thead>\n",
       "    <tr style=\"text-align: right;\">\n",
       "      <th></th>\n",
       "      <th>open</th>\n",
       "      <th>high</th>\n",
       "      <th>low</th>\n",
       "      <th>close</th>\n",
       "      <th>volume</th>\n",
       "      <th>trade_count</th>\n",
       "      <th>vwap</th>\n",
       "      <th>symbol</th>\n",
       "    </tr>\n",
       "    <tr>\n",
       "      <th>timestamp</th>\n",
       "      <th></th>\n",
       "      <th></th>\n",
       "      <th></th>\n",
       "      <th></th>\n",
       "      <th></th>\n",
       "      <th></th>\n",
       "      <th></th>\n",
       "      <th></th>\n",
       "    </tr>\n",
       "  </thead>\n",
       "  <tbody>\n",
       "    <tr>\n",
       "      <th>2018-05-01 04:00:00+00:00</th>\n",
       "      <td>1563.220</td>\n",
       "      <td>1585.0000</td>\n",
       "      <td>1552.1800</td>\n",
       "      <td>1582.260</td>\n",
       "      <td>4572091</td>\n",
       "      <td>91379</td>\n",
       "      <td>1571.199180</td>\n",
       "      <td>AMZN</td>\n",
       "    </tr>\n",
       "    <tr>\n",
       "      <th>2018-05-02 04:00:00+00:00</th>\n",
       "      <td>1580.980</td>\n",
       "      <td>1588.4992</td>\n",
       "      <td>1566.3600</td>\n",
       "      <td>1569.680</td>\n",
       "      <td>4360674</td>\n",
       "      <td>89539</td>\n",
       "      <td>1577.052810</td>\n",
       "      <td>AMZN</td>\n",
       "    </tr>\n",
       "    <tr>\n",
       "      <th>2018-05-03 04:00:00+00:00</th>\n",
       "      <td>1560.010</td>\n",
       "      <td>1574.8000</td>\n",
       "      <td>1546.0200</td>\n",
       "      <td>1572.075</td>\n",
       "      <td>4251917</td>\n",
       "      <td>93849</td>\n",
       "      <td>1562.809882</td>\n",
       "      <td>AMZN</td>\n",
       "    </tr>\n",
       "    <tr>\n",
       "      <th>2018-05-04 04:00:00+00:00</th>\n",
       "      <td>1562.450</td>\n",
       "      <td>1584.9000</td>\n",
       "      <td>1562.1900</td>\n",
       "      <td>1580.950</td>\n",
       "      <td>3443567</td>\n",
       "      <td>76205</td>\n",
       "      <td>1578.041481</td>\n",
       "      <td>AMZN</td>\n",
       "    </tr>\n",
       "    <tr>\n",
       "      <th>2018-05-07 04:00:00+00:00</th>\n",
       "      <td>1589.337</td>\n",
       "      <td>1606.9490</td>\n",
       "      <td>1587.8300</td>\n",
       "      <td>1600.140</td>\n",
       "      <td>3807853</td>\n",
       "      <td>85050</td>\n",
       "      <td>1599.382013</td>\n",
       "      <td>AMZN</td>\n",
       "    </tr>\n",
       "    <tr>\n",
       "      <th>...</th>\n",
       "      <td>...</td>\n",
       "      <td>...</td>\n",
       "      <td>...</td>\n",
       "      <td>...</td>\n",
       "      <td>...</td>\n",
       "      <td>...</td>\n",
       "      <td>...</td>\n",
       "      <td>...</td>\n",
       "    </tr>\n",
       "    <tr>\n",
       "      <th>2023-04-25 04:00:00+00:00</th>\n",
       "      <td>117.550</td>\n",
       "      <td>117.7400</td>\n",
       "      <td>115.6300</td>\n",
       "      <td>116.520</td>\n",
       "      <td>12180541</td>\n",
       "      <td>114799</td>\n",
       "      <td>116.422029</td>\n",
       "      <td>XOM</td>\n",
       "    </tr>\n",
       "    <tr>\n",
       "      <th>2023-04-26 04:00:00+00:00</th>\n",
       "      <td>116.030</td>\n",
       "      <td>117.0900</td>\n",
       "      <td>114.6800</td>\n",
       "      <td>115.450</td>\n",
       "      <td>15567368</td>\n",
       "      <td>121928</td>\n",
       "      <td>115.687788</td>\n",
       "      <td>XOM</td>\n",
       "    </tr>\n",
       "    <tr>\n",
       "      <th>2023-04-27 04:00:00+00:00</th>\n",
       "      <td>115.620</td>\n",
       "      <td>117.0100</td>\n",
       "      <td>114.8818</td>\n",
       "      <td>116.830</td>\n",
       "      <td>16278977</td>\n",
       "      <td>148902</td>\n",
       "      <td>116.091493</td>\n",
       "      <td>XOM</td>\n",
       "    </tr>\n",
       "    <tr>\n",
       "      <th>2023-04-28 04:00:00+00:00</th>\n",
       "      <td>117.250</td>\n",
       "      <td>119.9200</td>\n",
       "      <td>116.8300</td>\n",
       "      <td>118.340</td>\n",
       "      <td>24048856</td>\n",
       "      <td>183643</td>\n",
       "      <td>118.776711</td>\n",
       "      <td>XOM</td>\n",
       "    </tr>\n",
       "    <tr>\n",
       "      <th>2023-05-01 04:00:00+00:00</th>\n",
       "      <td>115.990</td>\n",
       "      <td>117.3000</td>\n",
       "      <td>114.4500</td>\n",
       "      <td>114.670</td>\n",
       "      <td>17359014</td>\n",
       "      <td>154922</td>\n",
       "      <td>115.275307</td>\n",
       "      <td>XOM</td>\n",
       "    </tr>\n",
       "  </tbody>\n",
       "</table>\n",
       "<p>6295 rows × 8 columns</p>\n",
       "</div>"
      ],
      "text/plain": [
       "                               open       high        low     close    volume   \n",
       "timestamp                                                                       \n",
       "2018-05-01 04:00:00+00:00  1563.220  1585.0000  1552.1800  1582.260   4572091  \\\n",
       "2018-05-02 04:00:00+00:00  1580.980  1588.4992  1566.3600  1569.680   4360674   \n",
       "2018-05-03 04:00:00+00:00  1560.010  1574.8000  1546.0200  1572.075   4251917   \n",
       "2018-05-04 04:00:00+00:00  1562.450  1584.9000  1562.1900  1580.950   3443567   \n",
       "2018-05-07 04:00:00+00:00  1589.337  1606.9490  1587.8300  1600.140   3807853   \n",
       "...                             ...        ...        ...       ...       ...   \n",
       "2023-04-25 04:00:00+00:00   117.550   117.7400   115.6300   116.520  12180541   \n",
       "2023-04-26 04:00:00+00:00   116.030   117.0900   114.6800   115.450  15567368   \n",
       "2023-04-27 04:00:00+00:00   115.620   117.0100   114.8818   116.830  16278977   \n",
       "2023-04-28 04:00:00+00:00   117.250   119.9200   116.8300   118.340  24048856   \n",
       "2023-05-01 04:00:00+00:00   115.990   117.3000   114.4500   114.670  17359014   \n",
       "\n",
       "                           trade_count         vwap symbol  \n",
       "timestamp                                                   \n",
       "2018-05-01 04:00:00+00:00        91379  1571.199180   AMZN  \n",
       "2018-05-02 04:00:00+00:00        89539  1577.052810   AMZN  \n",
       "2018-05-03 04:00:00+00:00        93849  1562.809882   AMZN  \n",
       "2018-05-04 04:00:00+00:00        76205  1578.041481   AMZN  \n",
       "2018-05-07 04:00:00+00:00        85050  1599.382013   AMZN  \n",
       "...                                ...          ...    ...  \n",
       "2023-04-25 04:00:00+00:00       114799   116.422029    XOM  \n",
       "2023-04-26 04:00:00+00:00       121928   115.687788    XOM  \n",
       "2023-04-27 04:00:00+00:00       148902   116.091493    XOM  \n",
       "2023-04-28 04:00:00+00:00       183643   118.776711    XOM  \n",
       "2023-05-01 04:00:00+00:00       154922   115.275307    XOM  \n",
       "\n",
       "[6295 rows x 8 columns]"
      ]
     },
     "execution_count": 29,
     "metadata": {},
     "output_type": "execute_result"
    }
   ],
   "source": [
    "stock_df_portfolio = alpaca.get_bars(\n",
    "    stock_tickers,\n",
    "    timeframe,\n",
    "    start_date,\n",
    "    end_date\n",
    ").df\n",
    "stock_df_portfolio"
   ]
  },
  {
   "cell_type": "code",
   "execution_count": 30,
   "id": "ec2906a2-97a2-4540-a2d9-e7786006696e",
   "metadata": {},
   "outputs": [
    {
     "data": {
      "text/plain": [
       "<Axes: xlabel='timestamp'>"
      ]
     },
     "execution_count": 30,
     "metadata": {},
     "output_type": "execute_result"
    },
    {
     "data": {
      "image/png": "[encoded data removed]",
      "text/plain": [
       "<Figure size 640x480 with 1 Axes>"
      ]
     },
     "metadata": {},
     "output_type": "display_data"
    }
   ],
   "source": [
    "stock_df_portfolio_AMZN = stock_df_portfolio[stock_df_portfolio['symbol'] == 'AMZN'].drop('symbol', axis = 1)\n",
    "\n",
    "stock_df_portfolio_AMZN['close'].plot()"
   ]
  },
  {
   "cell_type": "code",
   "execution_count": 24,
   "id": "7b89434c-41df-4b38-8ee3-4ff645406700",
   "metadata": {},
   "outputs": [
    {
     "data": {
      "text/plain": [
       "<Axes: xlabel='timestamp'>"
      ]
     },
     "execution_count": 24,
     "metadata": {},
     "output_type": "execute_result"
    },
    {
     "data": {
      "image/png": "[encoded data removed]",
      "text/plain": [
       "<Figure size 640x480 with 1 Axes>"
      ]
     },
     "metadata": {},
     "output_type": "display_data"
    }
   ],
   "source": [
    "stock_df_portfolio_GOOG = stock_df_portfolio[stock_df_portfolio['symbol'] == 'GOOG'].drop('symbol', axis = 1)\n",
    "\n",
    "stock_df_portfolio_GOOG['close'].plot()"
   ]
  },
  {
   "cell_type": "code",
   "execution_count": null,
   "id": "dcdd0c9b-c28e-4b42-b33c-51174b454ab5",
   "metadata": {},
   "outputs": [],
   "source": [
    "\n",
    "stock_df_portfolio_tsla = tradeapi.get_bars(\n",
    "    stock_tickers[2],\n",
    "    timeframe,\n",
    "    start_date,\n",
    "    end_date\n",
    ").df\n",
    "\n",
    "stock_df_portfolio_tsla['close'].hvplot()"
   ]
  },
  {
   "cell_type": "code",
   "execution_count": null,
   "id": "49a916a7-62d1-4215-9996-d5a9d087108e",
   "metadata": {},
   "outputs": [],
   "source": [
    "stock_df_portfolio_mcd = tradeapi.get_bars(\n",
    "    stock_tickers[3],\n",
    "    timeframe,\n",
    "    start_date,\n",
    "    end_date\n",
    ").df\n",
    "\n",
    "stock_df_portfolio_mcd['close'].hvplot()"
   ]
  },
  {
   "cell_type": "code",
   "execution_count": null,
   "id": "b66fe832-6f4d-4664-922d-eb9f93b12961",
   "metadata": {},
   "outputs": [],
   "source": [
    "stock_df_portfolio_xom = tradeapi.get_bars(\n",
    "    stock_tickers[4],\n",
    "    timeframe,\n",
    "    start_date,\n",
    "    end_date\n",
    ").df\n",
    "\n",
    "stock_df_portfolio_xom['close'].hvplot()"
   ]
  },
  {
   "cell_type": "code",
   "execution_count": null,
   "id": "121e7fa3-9c8d-497c-a1ca-a31d291a4913",
   "metadata": {},
   "outputs": [],
   "source": [
    "stock_df_portfolio_amzn['close'].hvplot() * stock_df_portfolio_goog['close'].hvplot() * stock_df_portfolio_tsla['close'].hvplot() * stock_df_portfolio_mcd['close'].hvplot()* stock_df_portfolio_xom['close'].hvplot()\n"
   ]
  },
  {
   "cell_type": "code",
   "execution_count": 26,
   "id": "2a2aa260-500b-4ced-a3d3-9e75f264c81b",
   "metadata": {},
   "outputs": [
    {
     "ename": "AttributeError",
     "evalue": "module 'alpaca_trade_api' has no attribute 'get_bars'",
     "output_type": "error",
     "traceback": [
      "\u001b[0;31m---------------------------------------------------------------------------\u001b[0m",
      "\u001b[0;31mAttributeError\u001b[0m                            Traceback (most recent call last)",
      "Cell \u001b[0;32mIn[26], line 1\u001b[0m\n\u001b[0;32m----> 1\u001b[0m crypto_df_portfolio_all \u001b[38;5;241m=\u001b[39m \u001b[43mtradeapi\u001b[49m\u001b[38;5;241;43m.\u001b[39;49m\u001b[43mget_bars\u001b[49m(\n\u001b[1;32m      2\u001b[0m     crypto_tickers,\n\u001b[1;32m      3\u001b[0m     timeframe,\n\u001b[1;32m      4\u001b[0m     start_date,\n\u001b[1;32m      5\u001b[0m     end_date\n\u001b[1;32m      6\u001b[0m )\u001b[38;5;241m.\u001b[39mdf\n\u001b[1;32m      8\u001b[0m crypto_df_portfolio_all\n",
      "\u001b[0;31mAttributeError\u001b[0m: module 'alpaca_trade_api' has no attribute 'get_bars'"
     ]
    }
   ],
   "source": [
    "crypto_df_portfolio_all = alpaca.get_crypto_bars(\n",
    "    crypto_tickers,\n",
    "    timeframe,\n",
    "    start_date,\n",
    "    end_date\n",
    ").df\n",
    "\n",
    "crypto_df_portfolio_all"
   ]
  },
  {
   "cell_type": "code",
   "execution_count": 35,
   "id": "7d40a30f-7432-45b0-9b65-13e0da72e690",
   "metadata": {},
   "outputs": [
    {
     "data": {
      "text/html": [
       "<div>\n",
       "<style scoped>\n",
       "    .dataframe tbody tr th:only-of-type {\n",
       "        vertical-align: middle;\n",
       "    }\n",
       "\n",
       "    .dataframe tbody tr th {\n",
       "        vertical-align: top;\n",
       "    }\n",
       "\n",
       "    .dataframe thead th {\n",
       "        text-align: right;\n",
       "    }\n",
       "</style>\n",
       "<table border=\"1\" class=\"dataframe\">\n",
       "  <thead>\n",
       "    <tr style=\"text-align: right;\">\n",
       "      <th></th>\n",
       "      <th>close</th>\n",
       "      <th>high</th>\n",
       "      <th>low</th>\n",
       "      <th>trade_count</th>\n",
       "      <th>open</th>\n",
       "      <th>volume</th>\n",
       "      <th>vwap</th>\n",
       "      <th>symbol</th>\n",
       "    </tr>\n",
       "    <tr>\n",
       "      <th>timestamp</th>\n",
       "      <th></th>\n",
       "      <th></th>\n",
       "      <th></th>\n",
       "      <th></th>\n",
       "      <th></th>\n",
       "      <th></th>\n",
       "      <th></th>\n",
       "      <th></th>\n",
       "    </tr>\n",
       "  </thead>\n",
       "  <tbody>\n",
       "    <tr>\n",
       "      <th>2021-01-01 06:00:00+00:00</th>\n",
       "      <td>29676.79</td>\n",
       "      <td>29682.29</td>\n",
       "      <td>28707.56</td>\n",
       "      <td>29639</td>\n",
       "      <td>29255.71</td>\n",
       "      <td>848.874030</td>\n",
       "      <td>29316.444625</td>\n",
       "      <td>BTC/USD</td>\n",
       "    </tr>\n",
       "    <tr>\n",
       "      <th>2021-01-02 06:00:00+00:00</th>\n",
       "      <td>33769.52</td>\n",
       "      <td>34200.00</td>\n",
       "      <td>29555.99</td>\n",
       "      <td>60152</td>\n",
       "      <td>29678.34</td>\n",
       "      <td>2144.592516</td>\n",
       "      <td>31941.412694</td>\n",
       "      <td>BTC/USD</td>\n",
       "    </tr>\n",
       "    <tr>\n",
       "      <th>2021-01-03 06:00:00+00:00</th>\n",
       "      <td>32908.02</td>\n",
       "      <td>34812.93</td>\n",
       "      <td>32300.61</td>\n",
       "      <td>58725</td>\n",
       "      <td>33769.52</td>\n",
       "      <td>1838.695433</td>\n",
       "      <td>33505.269474</td>\n",
       "      <td>BTC/USD</td>\n",
       "    </tr>\n",
       "    <tr>\n",
       "      <th>2021-01-04 06:00:00+00:00</th>\n",
       "      <td>30441.57</td>\n",
       "      <td>33496.03</td>\n",
       "      <td>27900.00</td>\n",
       "      <td>69226</td>\n",
       "      <td>32907.36</td>\n",
       "      <td>2711.189503</td>\n",
       "      <td>31267.965121</td>\n",
       "      <td>BTC/USD</td>\n",
       "    </tr>\n",
       "    <tr>\n",
       "      <th>2021-01-05 06:00:00+00:00</th>\n",
       "      <td>35063.00</td>\n",
       "      <td>35851.42</td>\n",
       "      <td>29927.55</td>\n",
       "      <td>61880</td>\n",
       "      <td>30461.84</td>\n",
       "      <td>1756.751333</td>\n",
       "      <td>33151.367357</td>\n",
       "      <td>BTC/USD</td>\n",
       "    </tr>\n",
       "    <tr>\n",
       "      <th>...</th>\n",
       "      <td>...</td>\n",
       "      <td>...</td>\n",
       "      <td>...</td>\n",
       "      <td>...</td>\n",
       "      <td>...</td>\n",
       "      <td>...</td>\n",
       "      <td>...</td>\n",
       "      <td>...</td>\n",
       "    </tr>\n",
       "    <tr>\n",
       "      <th>2023-04-26 05:00:00+00:00</th>\n",
       "      <td>29119.00</td>\n",
       "      <td>30046.27</td>\n",
       "      <td>27261.01</td>\n",
       "      <td>294221</td>\n",
       "      <td>28347.67</td>\n",
       "      <td>18220.450229</td>\n",
       "      <td>28896.350590</td>\n",
       "      <td>BTC/USD</td>\n",
       "    </tr>\n",
       "    <tr>\n",
       "      <th>2023-04-27 05:00:00+00:00</th>\n",
       "      <td>29537.16</td>\n",
       "      <td>29912.28</td>\n",
       "      <td>28646.88</td>\n",
       "      <td>191194</td>\n",
       "      <td>29119.00</td>\n",
       "      <td>12428.400177</td>\n",
       "      <td>29293.599261</td>\n",
       "      <td>BTC/USD</td>\n",
       "    </tr>\n",
       "    <tr>\n",
       "      <th>2023-04-28 05:00:00+00:00</th>\n",
       "      <td>29420.00</td>\n",
       "      <td>29608.47</td>\n",
       "      <td>28922.03</td>\n",
       "      <td>89534</td>\n",
       "      <td>29542.61</td>\n",
       "      <td>5359.938636</td>\n",
       "      <td>29297.215374</td>\n",
       "      <td>BTC/USD</td>\n",
       "    </tr>\n",
       "    <tr>\n",
       "      <th>2023-04-29 05:00:00+00:00</th>\n",
       "      <td>29253.01</td>\n",
       "      <td>29478.08</td>\n",
       "      <td>29082.47</td>\n",
       "      <td>41237</td>\n",
       "      <td>29422.55</td>\n",
       "      <td>1872.162765</td>\n",
       "      <td>29292.212634</td>\n",
       "      <td>BTC/USD</td>\n",
       "    </tr>\n",
       "    <tr>\n",
       "      <th>2023-04-30 05:00:00+00:00</th>\n",
       "      <td>28601.92</td>\n",
       "      <td>29985.57</td>\n",
       "      <td>28410.56</td>\n",
       "      <td>106439</td>\n",
       "      <td>29253.22</td>\n",
       "      <td>5635.676745</td>\n",
       "      <td>29291.284027</td>\n",
       "      <td>BTC/USD</td>\n",
       "    </tr>\n",
       "  </tbody>\n",
       "</table>\n",
       "<p>850 rows × 8 columns</p>\n",
       "</div>"
      ],
      "text/plain": [
       "                              close      high       low  trade_count   \n",
       "timestamp                                                              \n",
       "2021-01-01 06:00:00+00:00  29676.79  29682.29  28707.56        29639  \\\n",
       "2021-01-02 06:00:00+00:00  33769.52  34200.00  29555.99        60152   \n",
       "2021-01-03 06:00:00+00:00  32908.02  34812.93  32300.61        58725   \n",
       "2021-01-04 06:00:00+00:00  30441.57  33496.03  27900.00        69226   \n",
       "2021-01-05 06:00:00+00:00  35063.00  35851.42  29927.55        61880   \n",
       "...                             ...       ...       ...          ...   \n",
       "2023-04-26 05:00:00+00:00  29119.00  30046.27  27261.01       294221   \n",
       "2023-04-27 05:00:00+00:00  29537.16  29912.28  28646.88       191194   \n",
       "2023-04-28 05:00:00+00:00  29420.00  29608.47  28922.03        89534   \n",
       "2023-04-29 05:00:00+00:00  29253.01  29478.08  29082.47        41237   \n",
       "2023-04-30 05:00:00+00:00  28601.92  29985.57  28410.56       106439   \n",
       "\n",
       "                               open        volume          vwap   symbol  \n",
       "timestamp                                                                 \n",
       "2021-01-01 06:00:00+00:00  29255.71    848.874030  29316.444625  BTC/USD  \n",
       "2021-01-02 06:00:00+00:00  29678.34   2144.592516  31941.412694  BTC/USD  \n",
       "2021-01-03 06:00:00+00:00  33769.52   1838.695433  33505.269474  BTC/USD  \n",
       "2021-01-04 06:00:00+00:00  32907.36   2711.189503  31267.965121  BTC/USD  \n",
       "2021-01-05 06:00:00+00:00  30461.84   1756.751333  33151.367357  BTC/USD  \n",
       "...                             ...           ...           ...      ...  \n",
       "2023-04-26 05:00:00+00:00  28347.67  18220.450229  28896.350590  BTC/USD  \n",
       "2023-04-27 05:00:00+00:00  29119.00  12428.400177  29293.599261  BTC/USD  \n",
       "2023-04-28 05:00:00+00:00  29542.61   5359.938636  29297.215374  BTC/USD  \n",
       "2023-04-29 05:00:00+00:00  29422.55   1872.162765  29292.212634  BTC/USD  \n",
       "2023-04-30 05:00:00+00:00  29253.22   5635.676745  29291.284027  BTC/USD  \n",
       "\n",
       "[850 rows x 8 columns]"
      ]
     },
     "execution_count": 35,
     "metadata": {},
     "output_type": "execute_result"
    }
   ],
   "source": [
    "crypto_df_portfolio_btc = alpaca.get_crypto_bars(\n",
    "    ['BTC/USD'],\n",
    "    timeframe,\n",
    "    start_date,\n",
    "    end_date\n",
    ").df\n",
    "\n",
    "crypto_df_portfolio_btc#['close'].hvplot()\n"
   ]
  },
  {
   "cell_type": "code",
   "execution_count": null,
   "id": "487b4346-eaf9-4e43-82d1-195f17f581ca",
   "metadata": {},
   "outputs": [],
   "source": [
    "crypto_df_portfolio_ltc = tradeapi.get_bars(\n",
    "    crypto_tickers[2],\n",
    "    timeframe,\n",
    "    start_date,\n",
    "    end_date\n",
    ").df\n",
    "\n",
    "crypto_df_portfolio_ltc['close'].hvplot()"
   ]
  },
  {
   "cell_type": "code",
   "execution_count": null,
   "id": "bf1e7192-b725-4159-a178-36f5916a55a4",
   "metadata": {},
   "outputs": [],
   "source": [
    "\n",
    "crypto_df_portfolio_eth = tradeapi.get_bars(\n",
    "    crypto_tickers[4],\n",
    "    timeframe,\n",
    "    start_date,\n",
    "    end_date\n",
    ").df\n",
    "\n",
    "crypto_df_portfolio_eth['close'].hvplot()"
   ]
  },
  {
   "cell_type": "markdown",
   "id": "d2907fbb-4e4a-4505-889e-37d28f5e4b2d",
   "metadata": {},
   "source": [
    "Here are some of the significant events that occurred during the week of August 26, 2018, to September 1, 2018:\n",
    "\n",
    "The funeral of Senator John McCain took place on September 1, 2018. McCain was a former presidential candidate and a longtime senator from Arizona who passed away on August 25, 2018, after battling brain cancer. The funeral was attended by former presidents Barack Obama and George W. Bush, among other political leaders.\n",
    "\n",
    "Hurricane Lane hit Hawaii on August 23, 2018, causing significant damage and flooding. The hurricane was downgraded to a tropical storm on August 25, but it still caused widespread power outages and damage to infrastructure.\n",
    "\n",
    "On August 27, 2018, President Trump announced that the United States had reached a trade agreement with Mexico, which would replace the North American Free Trade Agreement (NAFTA). The announcement was met with mixed reactions, with some critics arguing that the new agreement did not go far enough in protecting American workers.\n",
    "\n",
    "The trial of former Trump campaign chairman Paul Manafort continued during this week, with prosecutors presenting evidence of his alleged financial crimes. The trial was closely watched as part of the ongoing investigation into Russian interference in the 2016 presidential election.\n",
    "\n",
    "On August 30, 2018, it was reported that the United States had expelled two Cuban diplomats in response to mysterious illnesses experienced by American diplomats in Cuba. The illnesses, which first came to light in 2016, have been attributed to a possible sonic attack."
   ]
  },
  {
   "cell_type": "markdown",
   "id": "9088312e-57e9-4f3f-a97e-6886f7691844",
   "metadata": {},
   "source": [
    "\n",
    "Here are some significant events that occurred during the week of December 23, 2018, to December 29, 2018:\n",
    "\n",
    "On December 23, 2018, a tsunami struck the Sunda Strait in Indonesia, killing over 400 people and injuring thousands more. The tsunami was triggered by an underwater landslide caused by the eruption of Anak Krakatau, a volcano in the region.\n",
    "\n",
    "The U.S. government began a partial shutdown on December 22, 2018, due to a disagreement between President Trump and Congress over funding for a proposed border wall. The shutdown continued throughout the week, affecting hundreds of thousands of federal workers and causing widespread disruption.\n",
    "\n",
    "On December 24, 2018, President Trump made a surprise visit to U.S. troops stationed in Iraq. The visit was the first time Trump had visited troops in a combat zone since taking office in January 2017.\n",
    "\n",
    "Protests broke out in several cities in Sudan on December 19, 2018, after the government announced cuts to bread subsidies. The protests continued throughout the week, with demonstrators calling for the ouster of President Omar al-Bashir.\n",
    "\n",
    "On December 27, 2018, former Pakistani Prime Minister Nawaz Sharif was sentenced to seven years in prison on corruption charges. Sharif had previously been disqualified from holding public office in Pakistan in 2017."
   ]
  },
  {
   "cell_type": "markdown",
   "id": "9485fd15-2b8c-40ae-a17b-d863f83214a0",
   "metadata": {},
   "source": [
    "Here are some significant events that occurred during the week of August 15, 2021, to August 21, 2021:\n",
    "\n",
    "The Taliban seized control of Kabul, the capital city of Afghanistan, on August 15, 2021. The rapid collapse of the Afghan government and the return of the Taliban sparked a humanitarian crisis and raised concerns about the future of the country.\n",
    "\n",
    "Haiti was hit by a 7.2 magnitude earthquake on August 14, 2021, which killed over 2,200 people and injured thousands more. The earthquake caused widespread damage to infrastructure and left many Haitians without access to basic necessities like food, water, and shelter.\n",
    "\n",
    "On August 19, 2021, the United States Food and Drug Administration (FDA) granted full approval to the Pfizer-BioNTech COVID-19 vaccine for people aged 16 and older. The approval was seen as a significant milestone in the fight against the COVID-19 pandemic.\n",
    "\n",
    "The United Nations Intergovernmental Panel on Climate Change (IPCC) released a report on August 9, 2021, warning that climate change is already having devastating impacts on the planet and that urgent action is needed to avoid the worst effects of global warming.\n",
    "\n",
    "The Belarusian government forced a commercial airliner to land in Minsk on May 23, 2021, in order to arrest journalist Roman Protasevich, who was on board. The incident sparked international condemnation and raised concerns about the safety of air travel."
   ]
  },
  {
   "cell_type": "markdown",
   "id": "40c8c608-bca8-4e8f-9da4-52881149b704",
   "metadata": {},
   "source": [
    "\n",
    "Here are some significant events that occurred during the week of July 4, 2021, to July 10, 2021:\n",
    "\n",
    "The death toll from the Surfside condo collapse in Florida, United States, rose to 97 on July 10, 2021. The tragedy captured international attention and raised concerns about building safety and infrastructure maintenance.\n",
    "\n",
    "Protests broke out in Cuba on July 11, 2021, amid a worsening economic crisis and rising COVID-19 cases. The protests were the largest seen in Cuba in decades and were met with a government crackdown.\n",
    "\n",
    "On July 7, 2021, Germany experienced severe flooding that killed at least 180 people and caused significant damage to infrastructure and homes. The flooding was caused by heavy rainfall and was one of the worst natural disasters to hit Germany in decades.\n",
    "\n",
    "The World Health Organization (WHO) warned on July 9, 2021, that the COVID-19 pandemic was far from over and that the Delta variant of the virus was spreading rapidly around the world. The WHO urged countries to continue to take strong measures to contain the spread of the virus.\n",
    "\n",
    "The European Union announced on July 7, 2021, that it was launching legal action against Hungary over a new law that critics say discriminates against the LGBTQ+ community. The move sparked a political and cultural debate about human rights in Europe."
   ]
  },
  {
   "cell_type": "markdown",
   "id": "f29cb7e2-a519-4fe5-a2ba-a696bb46a53d",
   "metadata": {},
   "source": [
    "\n",
    "Here are some significant events that occurred during the week of April 25, 2021, to May 1, 2021:\n",
    "\n",
    "India continued to struggle with a surge in COVID-19 cases, with hospitals overwhelmed and oxygen supplies running low. The country recorded its highest daily death toll on April 28, 2021, and the crisis prompted international aid efforts and calls for more global cooperation on vaccine distribution.\n",
    "\n",
    "On April 25, 2021, COVID-19 restrictions in England were relaxed, allowing people to dine outdoors, visit non-essential shops, and attend outdoor sporting events. The move was seen as a step toward normalcy after months of lockdowns and social distancing measures.\n",
    "\n",
    "Derek Chauvin, the former Minneapolis police officer who was convicted of murdering George Floyd, was sentenced on April 23, 2021, to 22.5 years in prison. The case sparked nationwide protests and renewed discussions about racial justice and police reform in the United States.\n",
    "\n",
    "The European Union unveiled a new plan to cut greenhouse gas emissions by 55% by 2030, as part of its efforts to address climate change. The plan includes measures to promote renewable energy, reduce car emissions, and establish a carbon border tax.\n",
    "\n",
    "Apple announced on April 28, 2021, that it was launching a new privacy feature called App Tracking Transparency, which gives users more control over how their data is shared by apps. The move was seen as a response to growing concerns about data privacy and targeted advertising."
   ]
  },
  {
   "cell_type": "markdown",
   "id": "a1607f0f-7d17-4649-b7c6-abb7b0874814",
   "metadata": {},
   "source": [
    "Here are some significant events that occurred during the week of March 7, 2021, to March 13, 2021:\n",
    "\n",
    "The United States Senate passed a $1.9 trillion COVID-19 relief package on March 6, 2021. The package includes funding for vaccine distribution, small businesses, and stimulus checks for millions of Americans. It was signed into law by President Biden on March 11, 2021.\n",
    "\n",
    "On March 7, 2021, the United Nations reported that over 2 million people had been displaced by violence in Ethiopia's Tigray region. The conflict has been ongoing since November 2020 and has caused widespread destruction and human suffering.\n",
    "\n",
    "Meghan Markle and Prince Harry's interview with Oprah Winfrey aired on March 7, 2021, causing a media firestorm. The couple discussed their experiences with racism and mental health within the British royal family, sparking a national conversation about race and privilege.\n",
    "\n",
    "The United States and South Korea reached an agreement on March 8, 2021, on the cost of keeping American troops on the Korean peninsula. The agreement ended a dispute that had strained the alliance between the two countries.\n",
    "\n",
    "A massive cargo ship, the Ever Given, became stuck in the Suez Canal on March 23, 2021, blocking one of the world's busiest trade routes. The blockage caused major disruptions in global trade and took six days to resolve."
   ]
  },
  {
   "cell_type": "code",
   "execution_count": null,
   "id": "7fa908a0-ccb9-45f9-b781-5f07318f0def",
   "metadata": {},
   "outputs": [],
   "source": []
  }
 ],
 "metadata": {
  "kernelspec": {
   "display_name": "Python 3 (ipykernel)",
   "language": "python",
   "name": "python3"
  },
  "language_info": {
   "codemirror_mode": {
    "name": "ipython",
    "version": 3
   },
   "file_extension": ".py",
   "mimetype": "text/x-python",
   "name": "python",
   "nbconvert_exporter": "python",
   "pygments_lexer": "ipython3",
   "version": "3.10.10"
  }
 },
 "nbformat": 4,
 "nbformat_minor": 5
}
